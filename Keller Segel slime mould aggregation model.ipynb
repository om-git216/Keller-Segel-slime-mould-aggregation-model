{
 "cells": [
  {
   "cell_type": "markdown",
   "id": "8f353105",
   "metadata": {},
   "source": [
    "**Keller Segel slime mould aggregation model**  \n",
    "Slime molds act as agents and interact with the environment made up of cAMP molecules. The concentration of cAMP is defined everywhere in space, and it changes by its own inherent dynamics (natural decay) and by the action of agents (secretion of cAMP molecules by agents). This model can be implemented as an agent based model (ABM)."
   ]
  },
  {
   "cell_type": "markdown",
   "id": "f6c2e6c7",
   "metadata": {},
   "source": [
    "In the model, agents interact with the environment in two different ways. Ome way is the secretion of cAMP by the agents, which can be implemented by letting each agent increase the cAMP concentration in a discrete cell where it is located.  \n",
    "The other way is chemotaxis. We can have each agent look at a cell randomly chosen from its neighbourhood, and move there with a probability determined by the difference in cAMP concentration $(\\Delta c)$ between the neighbour cell and the cell where the agent is currently located. A ***sigmoid function***  \n",
    "$P(\\Delta c) = \\frac{e^(\\frac{\\Delta c}{c_0})}{1 + e^(\\frac{\\Delta c}{c_0})}$  \n",
    "would be suitable for this purpos, where $c_0$ is a parameter that determines how sensitive this probability is to $\\Delta c$.  \n",
    "$P(\\Delta c)$ approaches 1 with $\\Delta c \\rightarrow \\infty$, or 0 with $\\Delta c \\rightarrow -\\infty$."
   ]
  },
  {
   "cell_type": "code",
   "execution_count": 1,
   "id": "40157e90",
   "metadata": {},
   "outputs": [
    {
     "name": "stderr",
     "output_type": "stream",
     "text": [
      "\n",
      "Bad key text.latex.preview in file C:\\Users\\Omika\\anaconda3\\lib\\site-packages\\matplotlib\\mpl-data\\stylelib\\_classic_test.mplstyle, line 123 ('text.latex.preview : False')\n",
      "You probably need to get an updated matplotlibrc file from\n",
      "https://github.com/matplotlib/matplotlib/blob/v3.5.0/matplotlibrc.template\n",
      "or from the matplotlib source distribution\n",
      "\n",
      "Bad key mathtext.fallback_to_cm in file C:\\Users\\Omika\\anaconda3\\lib\\site-packages\\matplotlib\\mpl-data\\stylelib\\_classic_test.mplstyle, line 155 ('mathtext.fallback_to_cm : True  # When True, use symbols from the Computer Modern')\n",
      "You probably need to get an updated matplotlibrc file from\n",
      "https://github.com/matplotlib/matplotlib/blob/v3.5.0/matplotlibrc.template\n",
      "or from the matplotlib source distribution\n",
      "\n",
      "Bad key savefig.jpeg_quality in file C:\\Users\\Omika\\anaconda3\\lib\\site-packages\\matplotlib\\mpl-data\\stylelib\\_classic_test.mplstyle, line 418 ('savefig.jpeg_quality: 95       # when a jpeg is saved, the default quality parameter.')\n",
      "You probably need to get an updated matplotlibrc file from\n",
      "https://github.com/matplotlib/matplotlib/blob/v3.5.0/matplotlibrc.template\n",
      "or from the matplotlib source distribution\n",
      "\n",
      "Bad key keymap.all_axes in file C:\\Users\\Omika\\anaconda3\\lib\\site-packages\\matplotlib\\mpl-data\\stylelib\\_classic_test.mplstyle, line 466 ('keymap.all_axes : a                 # enable all axes')\n",
      "You probably need to get an updated matplotlibrc file from\n",
      "https://github.com/matplotlib/matplotlib/blob/v3.5.0/matplotlibrc.template\n",
      "or from the matplotlib source distribution\n",
      "\n",
      "Bad key animation.avconv_path in file C:\\Users\\Omika\\anaconda3\\lib\\site-packages\\matplotlib\\mpl-data\\stylelib\\_classic_test.mplstyle, line 477 ('animation.avconv_path: avconv     # Path to avconv binary. Without full path')\n",
      "You probably need to get an updated matplotlibrc file from\n",
      "https://github.com/matplotlib/matplotlib/blob/v3.5.0/matplotlibrc.template\n",
      "or from the matplotlib source distribution\n",
      "\n",
      "Bad key animation.avconv_args in file C:\\Users\\Omika\\anaconda3\\lib\\site-packages\\matplotlib\\mpl-data\\stylelib\\_classic_test.mplstyle, line 479 ('animation.avconv_args:            # Additional arguments to pass to avconv')\n",
      "You probably need to get an updated matplotlibrc file from\n",
      "https://github.com/matplotlib/matplotlib/blob/v3.5.0/matplotlibrc.template\n",
      "or from the matplotlib source distribution\n"
     ]
    }
   ],
   "source": [
    "import random\n",
    "import numpy as np\n",
    "import matplotlib\n",
    "import matplotlib.pyplot as plt\n",
    "matplotlib.use(\"TkAgg\")\n",
    "from pylab import *"
   ]
  },
  {
   "cell_type": "code",
   "execution_count": 2,
   "id": "6e144695",
   "metadata": {},
   "outputs": [],
   "source": [
    "n = 1000 #number of agents\n",
    "w = 100 #number of rows/columns in spatial array\n",
    "\n",
    "class agent():\n",
    "    pass\n",
    "\n",
    "def initialize():\n",
    "    global agents, env, nextenv\n",
    "    \n",
    "    agents = []\n",
    "    for i in range(n):\n",
    "        ag = agent()\n",
    "        ag.x = np.random.randint(0, w)\n",
    "        ag.y = np.random.randint(0, w)\n",
    "        agents = np.append(agents, ag)\n",
    "        \n",
    "    env = zeros([w, w])\n",
    "    nextenv = zeros([w, w])\n",
    "\n",
    "k = 1 #rate of cAMP decay\n",
    "Dc = 0.001 #diffusion constant of cAMP\n",
    "Dh = 0.01 #spatial resolution for cAMP simulation\n",
    "Dt = 0.01 #time resolution for cAMP simulation\n",
    "\n",
    "def update():\n",
    "    global agents, env, nextenv\n",
    "    \n",
    "    #simulating diffusion and evaporation of cAMP\n",
    "    for x in range(w):\n",
    "        for y in range(w):\n",
    "            C, R, L, U, D = env[x, y], env[(x+1)%w, y], env[(x-1)%w, y], env[x, (y+1)%w], env[x, (y-1)%w]\n",
    "            lap = (R + L + U + D - 4*C)/(Dh**2)\n",
    "            nextenv[x, y] = env[x, y] + (-k*C + Dc*lap)*Dt\n",
    "    env, nextenv = nextenv, env\n",
    "    \n",
    "    f = 1 #rate of cAMP secretion by an agent\n",
    "\n",
    "    #simulating secretion of cAMP by agents\n",
    "    for ag in agents:\n",
    "        env[ag.x, ag.y] += f*Dt\n",
    "        \n",
    "    #simulating chemotaxis of agents\n",
    "    for ag in agents:\n",
    "        newx, newy = (ag.x + np.random.randint(-1, 2)) % w, (ag.y + np.random.randint(-1, 2)) % w\n",
    "        diff = (env[newx, newy] - env[ag.x, ag.y])/0.1\n",
    "        if np.random.uniform(low=0, high=1, size=1) < np.exp(diff)/(1 + np.exp(diff)):\n",
    "            ag.x, ag.y = newx, newy\n",
    "\n",
    "def observe():\n",
    "    global agents, env, nextenv\n",
    "    cla()\n",
    "    imshow(env, cmap = cm.binary, vmin = 0, vmax = 1)\n",
    "    axis(\"image\")\n",
    "    x = [ag.x for ag in agents]\n",
    "    y = [ag.y for ag in agents]\n",
    "    plot(y, x, \"b.\")"
   ]
  },
  {
   "cell_type": "code",
   "execution_count": null,
   "id": "8c15498a",
   "metadata": {},
   "outputs": [],
   "source": [
    "import pycxsimulator\n",
    "pycxsimulator.GUI(stepSize = 50).start(func=[initialize, observe, update])"
   ]
  },
  {
   "cell_type": "code",
   "execution_count": null,
   "id": "45bf463d",
   "metadata": {},
   "outputs": [],
   "source": []
  }
 ],
 "metadata": {
  "@webio": {
   "lastCommId": null,
   "lastKernelId": null
  },
  "kernelspec": {
   "display_name": "Python 3 (ipykernel)",
   "language": "python",
   "name": "python3"
  },
  "language_info": {
   "codemirror_mode": {
    "name": "ipython",
    "version": 3
   },
   "file_extension": ".py",
   "mimetype": "text/x-python",
   "name": "python",
   "nbconvert_exporter": "python",
   "pygments_lexer": "ipython3",
   "version": "3.8.12"
  }
 },
 "nbformat": 4,
 "nbformat_minor": 5
}
